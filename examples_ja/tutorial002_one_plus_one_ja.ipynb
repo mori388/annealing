{
 "cells": [
  {
   "cell_type": "markdown",
   "metadata": {
    "colab_type": "text",
    "id": "jal7xDYFe3Nq"
   },
   "source": [
    "# QUBOで足し算を行う"
   ]
  },
  {
   "cell_type": "markdown",
   "metadata": {
    "colab_type": "text",
    "id": "r7j1DqYse7cB"
   },
   "source": [
    "まずは準備として最適化問題のSDKであるWildqatを呼び出し、インスタンスを作成します。"
   ]
  },
  {
   "cell_type": "code",
   "execution_count": 1,
   "metadata": {
    "colab": {},
    "colab_type": "code",
    "id": "fMKF-eQyerzg"
   },
   "outputs": [],
   "source": [
    "import wildqat as wq\n",
    "a = wq.opt()\n"
   ]
  },
  {
   "cell_type": "markdown",
   "metadata": {
    "colab_type": "text",
    "id": "-x7dmTzre7AN"
   },
   "source": [
    "早速問題を解いていきます。今回解きたい問題は、  \n",
    "\n",
    "1+ 1 = x\n",
    "\n",
    "となるようなxを求めます。QUBOにおいて足し算は上記右辺から左辺を引いてその最小値を求めることに相当しますので、\n",
    "\n",
    "E = (x-2)^2\n",
    "\n",
    "というコスト関数ができます。こちらを展開すると、\n",
    "\n",
    "E = x^2 -4x + 4\n",
    "\n",
    "という式が得られます。これを計算します。一方、xは量子ビットを使って、\n",
    "\n",
    "x = q0 + 2q1\n",
    "\n",
    "という二進数表記ができますので、さらにこれを上記のコスト関数に代入すると、\n",
    "\n",
    "H = q0^2 + 4*q0*q1 - 4*q0 + 4*q1^2 - 8*q1 + 4\n",
    "\n",
    "と展開されます。ここで、QUBOはバイナリ値{0,1}を取りますので、二乗の項はすべて指数がとれます。\n",
    "\n",
    "q0^2 = q0  \n",
    "q1^2 = q1\n",
    "\n",
    "より、\n",
    "\n",
    "H = -3q0 + 4q0q1 - 4q1 +4\n",
    "\n",
    "となります。これを行列表記すると、下記のようになります。"
   ]
  },
  {
   "cell_type": "code",
   "execution_count": 2,
   "metadata": {
    "colab": {},
    "colab_type": "code",
    "id": "wImQpd7_eum_"
   },
   "outputs": [],
   "source": [
    "a.qubo = [[-3,4],[0,-4]]"
   ]
  },
  {
   "cell_type": "markdown",
   "metadata": {
    "colab_type": "text",
    "id": "BRLbSqcZfCzz"
   },
   "source": [
    "そして、早速これを計算実行すると、"
   ]
  },
  {
   "cell_type": "code",
   "execution_count": 4,
   "metadata": {
    "colab": {
     "base_uri": "https://localhost:8080/",
     "height": 51
    },
    "colab_type": "code",
    "id": "tYYg8-xeeylP",
    "outputId": "dba14862-f955-4ab8-ab40-6114f0bafe95"
   },
   "outputs": [
    {
     "name": "stdout",
     "output_type": "stream",
     "text": [
      "1.4851853847503662\n"
     ]
    },
    {
     "data": {
      "text/plain": [
       "[0, 1]"
      ]
     },
     "execution_count": 4,
     "metadata": {
      "tags": []
     },
     "output_type": "execute_result"
    }
   ],
   "source": [
    "a.sa()"
   ]
  },
  {
   "cell_type": "markdown",
   "metadata": {
    "colab_type": "text",
    "id": "HFw1v_jMfGeR"
   },
   "source": [
    "これはQUBOでq0=1,q1=1となりましたので、1+1の答えは、\n",
    "\n",
    "1 + 1 = 0 + 2*1 = 2\n",
    "\n",
    "となります。"
   ]
  }
 ],
 "metadata": {
  "colab": {
   "name": "tutorial2_one_plus_one.ipynb",
   "provenance": [],
   "version": "0.3.2"
  },
  "kernelspec": {
   "display_name": "Python 3",
   "language": "python",
   "name": "python3"
  },
  "language_info": {
   "codemirror_mode": {
    "name": "ipython",
    "version": 3
   },
   "file_extension": ".py",
   "mimetype": "text/x-python",
   "name": "python",
   "nbconvert_exporter": "python",
   "pygments_lexer": "ipython3",
   "version": "3.5.3"
  }
 },
 "nbformat": 4,
 "nbformat_minor": 1
}
