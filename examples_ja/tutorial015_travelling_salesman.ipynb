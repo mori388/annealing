{
 "cells": [
  {
   "cell_type": "markdown",
   "metadata": {
    "colab_type": "text",
    "id": "view-in-github"
   },
   "source": []
  },
  {
   "cell_type": "markdown",
   "metadata": {
    "colab_type": "text",
    "id": "4NtqBoZoJLwN"
   },
   "source": [
    "# 巡回セールスマン問題を計算する\n",
    "\n",
    "巡回セールスマン問題とは、訪れる都市の集合と都市間の移動コスト（距離など）が与えられたとき、すべての都市を１度ずつ訪問し、かつ移動コスト（距離）が最小のルートを求めるという組み合わせ最適化問題です。 これをwildqatを使用して解いてみます。\n",
    "<img src=\"https://user-images.githubusercontent.com/5043340/45661145-2f8a7a80-bb37-11e8-99d1-42368906cfff.png\" width=\"400\">\n",
    "\n",
    "wildqatがインストールされていない場合は、環境に併せて以下のようにインストールしてください。"
   ]
  },
  {
   "cell_type": "code",
   "execution_count": 1,
   "metadata": {
    "colab": {},
    "colab_type": "code",
    "id": "jBfMpncQis5n"
   },
   "outputs": [
    {
     "name": "stdout",
     "output_type": "stream",
     "text": [
      "Requirement already satisfied: wildqat in /Users/moriyama/.pyenv/versions/anaconda3-4.0.0/lib/python3.5/site-packages (1.1.9)\n",
      "Requirement already satisfied: numpy==1.15.1 in /Users/moriyama/.pyenv/versions/anaconda3-4.0.0/lib/python3.5/site-packages (from wildqat) (1.15.1)\n",
      "Requirement already satisfied: matplotlib==3.0.0 in /Users/moriyama/.pyenv/versions/anaconda3-4.0.0/lib/python3.5/site-packages (from wildqat) (3.0.0)\n",
      "Requirement already satisfied: networkx==2.2 in /Users/moriyama/.pyenv/versions/anaconda3-4.0.0/lib/python3.5/site-packages (from wildqat) (2.2)\n",
      "Requirement already satisfied: python-dateutil>=2.1 in /Users/moriyama/.pyenv/versions/anaconda3-4.0.0/lib/python3.5/site-packages (from matplotlib==3.0.0->wildqat) (2.6.1)\n",
      "Requirement already satisfied: cycler>=0.10 in /Users/moriyama/.pyenv/versions/anaconda3-4.0.0/lib/python3.5/site-packages (from matplotlib==3.0.0->wildqat) (0.10.0)\n",
      "Requirement already satisfied: pyparsing!=2.0.4,!=2.1.2,!=2.1.6,>=2.0.1 in /Users/moriyama/.pyenv/versions/anaconda3-4.0.0/lib/python3.5/site-packages (from matplotlib==3.0.0->wildqat) (2.2.0)\n",
      "Requirement already satisfied: kiwisolver>=1.0.1 in /Users/moriyama/.pyenv/versions/anaconda3-4.0.0/lib/python3.5/site-packages (from matplotlib==3.0.0->wildqat) (1.0.1)\n",
      "Requirement already satisfied: decorator>=4.3.0 in /Users/moriyama/.pyenv/versions/anaconda3-4.0.0/lib/python3.5/site-packages (from networkx==2.2->wildqat) (4.4.0)\n",
      "Requirement already satisfied: six>=1.5 in /Users/moriyama/.pyenv/versions/anaconda3-4.0.0/lib/python3.5/site-packages (from python-dateutil>=2.1->matplotlib==3.0.0->wildqat) (1.11.0)\n",
      "Requirement already satisfied: setuptools in /Users/moriyama/.pyenv/versions/anaconda3-4.0.0/lib/python3.5/site-packages (from kiwisolver>=1.0.1->matplotlib==3.0.0->wildqat) (36.7.2)\n",
      "\u001b[33mYou are using pip version 19.0.3, however version 19.1.1 is available.\n",
      "You should consider upgrading via the 'pip install --upgrade pip' command.\u001b[0m\n"
     ]
    }
   ],
   "source": [
    "!pip3 install wildqat"
   ]
  },
  {
   "cell_type": "markdown",
   "metadata": {
    "colab_type": "text",
    "id": "NXl-dlP4jCQm"
   },
   "source": [
    "必要なライブラリをimportし、wildqatオブジェクトをインスタンス化します。"
   ]
  },
  {
   "cell_type": "code",
   "execution_count": 2,
   "metadata": {
    "colab": {},
    "colab_type": "code",
    "id": "T99_Z9PpjEKW"
   },
   "outputs": [],
   "source": [
    "import wildqat as wq\n",
    "import numpy as np\n",
    "a = wq.opt()"
   ]
  },
  {
   "cell_type": "markdown",
   "metadata": {
    "colab_type": "text",
    "id": "0nYClegLiF7e"
   },
   "source": [
    "\n",
    "## 例題\n",
    "\n",
    "簡単のために、例題で考えてみます。\n",
    "\n",
    "図のような４都市A、B、C、Dを１度ずつ訪問することを考えます。都市間はすべて接続されていて、距離が設定されています。接続されていない都市間がある場合も解けますが、簡単のため全結合とします。\n",
    "\n",
    "<img src=\"https://user-images.githubusercontent.com/5043340/45661003-8ba0cf00-bb36-11e8-95fc-573e77ded327.png\" width=\"400\">\n"
   ]
  },
  {
   "cell_type": "markdown",
   "metadata": {
    "colab_type": "text",
    "id": "04Mqi_Rci7g2"
   },
   "source": [
    "## Quboマトリクスを作成\n",
    "\n",
    "問題を解くためのQuboマトリクスを作成します。\n",
    "巡回セールスマン問題を解くための一般式は次のようになります。\n",
    "$H = \\sum_{v=1}^n\\left( 1-\\sum_{j=1}^N x_{v,j} \\right)^2 + \\sum_{j=1}^N\\left(1-\\sum_{v=1}^Nx_{v,j} \\right)^2 + B\\sum_{(u,v)\\in E}W_{u,v}\\sum_{j=1}^N x_{u,j} x_{v,j+1}$      ・・・・・(1)\n",
    "\n",
    "\n",
    "\n",
    "変数 $x_{vj}$ を、都市$v$を$j$番目に訪れるかどうかを表す変数とし、\n",
    "\n",
    "$x_{vj} =  1$ (都市vをj番目に訪れるとき)、$0$ (都市vをj番目に訪れないとき)\n",
    "\n",
    "とします。このため、Quboマトリクスは、都市数をNとすると${N}^2$×${N}^2$のマトリクスとなります。上記の４都市の例では、１６×１６のマトリクスです。Quboマトリクスは２次元ですので、$x_{vj}$を$q_i$に変換して考えます。すなわち、上記の４都市の例では、\n",
    "\n",
    "$x_{11}, x_{12}, x_{13}, x_{14}$ →  $q_0, q_1, q_2, q_3$\n",
    "\n",
    "$x_{21}, x_{22}, x_{23}, x_{24}$ →  $q_4, q_5, q_6, q_7$\n",
    "\n",
    "$x_{31}, x_{32}, x_{33}, x_{34}$ →  $q_8, q_{9}, q_{10}, q_{11}$\n",
    "\n",
    "$x_{41}, x_{42}, x_{43}, x_{44}$ →  $q_{12}, q_{13}, q_{14}, q_{15}$\n",
    "\n",
    "\n",
    "といった感じです。（$x$の添え字の１番目は、1：A、2：B、3：C、4：Dとしています。）\n",
    "\n",
    "この変数を利用して、すべての都市を１度ずつ訪れたときの移動距離が一番小さくなるようなコスト関数を考えます。コスト関数には３つの項目が必要です。\n",
    "\n",
    "\n",
    "*   各都市を訪れるのは１回ずつである\n",
    "*   j番目に訪れる都市は１つだけである（同じ時間に複数の都市を訪問していることはできないため）\n",
    "*  移動距離が最小\n",
    "\n",
    "\n"
   ]
  },
  {
   "cell_type": "markdown",
   "metadata": {
    "colab_type": "text",
    "id": "iL1XZZPhMuhp"
   },
   "source": [
    "## 条件１：各都市を訪れるのは１回ずつである\n",
    "\n",
    "まず、１つ目の制約条件について考えます。下図は、都市AからDを1~4の何番目に訪れるか表した図です。\n",
    "<img src=\"https://user-images.githubusercontent.com/5043340/45663268-8a749f80-bb40-11e8-8c4a-8b2ad1dd3f35.png\" width=\"400\">\n",
    "\n",
    "１都市を訪れるのは１度だけと考えると、赤枠で囲んだ横の各行は、１つだけが１になります。\n",
    "たとえば、$q_0+q_1+q_2+q_3 = 1$です。これをすべての行で考え、以下のようにすれば\n",
    "\n",
    "${(1-q_0-q_1-q_2-q_3)^2+(1-q_4-q_5-q_6-q_7)^2+(1-q_8-q_9-q_{10}-q_{11})^2+(1-q_{12}-q_{13}-q_{14}-q_{15})^2\n",
    "}$\n",
    "\n",
    "上式のようにすれば、各都市を一度だけ訪れる場合に最小となる制約条件になります。\n",
    "\n",
    "\n",
    "\n"
   ]
  },
  {
   "cell_type": "markdown",
   "metadata": {
    "colab_type": "text",
    "id": "Wiulor0gNBQ6"
   },
   "source": [
    "## 条件２： j番目に訪れる都市は１つだけである\n",
    "\n",
    "２つ目の制約条件について考えます。\n",
    "<img src=\"https://user-images.githubusercontent.com/5043340/45666641-1bec0d80-bb51-11e8-87f7-0d1bb522f2e8.png\" width=\"400\">\n",
    "\n",
    "今度は、１度に訪れる都市は１つだけと考えると、赤枠で囲んだ縦の各列が、１つだけ１になります。そうすると、\n",
    "\n",
    "${(1-q_0-q_4-q_8-q_{12})^2+(1-q_1-q_5-q_9-q_{13})^2+(1-q_2-q_6-q_{10}-q_{14})^2+(1-q_{3}-q_{7}-q_{11}-q_{15})^2\n",
    "}$\n",
    "\n",
    "上式のようにすれば、一度に訪れる都市が１つだけの場合に最小となる制約条件になります。\n",
    "\n",
    "\n",
    "\n",
    "条件１と条件２を足し合わせて整理すると、以下のようになります。\n",
    "\n",
    "${2q_0q_1 + 2q_0q_{12} + 2q_0q_2 + 2q_0q_3 + 2q_0q_4 + 2q_0q_8 - 2q_0}$ \n",
    "\n",
    "${+ 2q_1q_{13} + 2q_1q_2 + 2q_1q_3 + 2q_1q_5 + 2q_1q_9 - 2q_1}$ \n",
    "\n",
    "${ + 2q_{10}q_{11} + 2q_{10}q_{14} + 2q_{10}q_2 + 2q_{10}q_6 + 2q_{10}q_8 + 2q_{10}q_9 - 2q_{10} }$ \n",
    "\n",
    "${+ 2q_{11}q_{15} + 2q_{11}q_3 + 2q_{11}q_7 + 2q_{11}q_8 + 2q_{11}q_9 - 2q_{11}}$ \n",
    "\n",
    "${+ 2q_{12}q_{13} + 2q_{12}q_{14} + 2q_{12}q_{15} + 2q_{12}q_4 + 2q_{12}q_8 - 2q_{12} }$ \n",
    "\n",
    "${+ 2q_{13}q_{14}+ 2q_{13}q_{15} + 2q_{13}q_5 + 2q_{13}q_9 - 2q_{13} }$ \n",
    "\n",
    "${+ 2q_{14}q_{15} + 2q_{14}q_2 + 2q_{14}q_6 - 2q_{14}}$ \n",
    "\n",
    "${+ 2q_{15}q_3 + 2q_{15}q_7 - 2q_{15}}$ \n",
    "\n",
    "${+ 2q_2q_3 + 2q_2q_6 - 2q_2 + 2q_3q_7 - 2q_3 }$ \n",
    "\n",
    "${+ 2q_4q_5 + 2q_4q_6 + 2q_4q_7 + 2q_4q_8 - 2q_4 + 2q_5q_6 + 2q_5q_7 + 2q_5q_9 - 2q_5 }$ \n",
    "\n",
    "${ +2q_6q_7 - 2q_6 - 2q_7 + 2q_8q_9 - 2q_8 - 2q_9 + 8}$ \n",
    "\n",
    "\n",
    "\n",
    "\n",
    "\n",
    "\n",
    "これをQuboマトリクスで表すと、以下のようになります。\n",
    "\n",
    "\n",
    "<img src=\"https://user-images.githubusercontent.com/5043340/45666980-42f70f00-bb52-11e8-93a7-245e9d0f5609.png\" width=\"400\">\n"
   ]
  },
  {
   "cell_type": "markdown",
   "metadata": {
    "colab_type": "text",
    "id": "-GV3mmIBOCUy"
   },
   "source": [
    "## 条件３： 移動距離が最小\n",
    "\n",
    "ある都市から次の都市に移動するときの距離の和をコスト関数とすれば、コスト関数が最小のとき、移動距離が最短となるルートが求められます。例えば、q0（x11）とq5（x22）が１のとき、これは都市Aを１番目に訪れ、都市Bに２番目に訪れるということなので、都市Aから都市Bの移動に対応しています。そこで、Quboマトリクスのq0q5のコストは「2」となります。同様にすべての都市間の距離を考えると、下図のようになります。\n",
    "\n",
    "<img src=\"https://user-images.githubusercontent.com/5043340/45667633-f3661280-bb54-11e8-9fbe-5dba63749b1d.png\" width=\"400\">\n"
   ]
  },
  {
   "cell_type": "markdown",
   "metadata": {
    "colab_type": "text",
    "id": "Gt5Mm5saTbay"
   },
   "source": [
    "## 条件を足し合わせる\n",
    "\n",
    "条件１・２、条件３を足し合わせたQuboマトリクスにします。\n",
    "\n",
    "制約条件と距離のコスト関数は等しい割合で参入ができません。結合する際にはどちらかに係数をかけてその係数を調整する必要があります。今回は、距離のコスト関数側にB=0.25という係数をかけて足し合わせてみます。\n",
    "\n",
    "\n",
    "## プログラムを書いて計算してみる\n",
    "\n",
    "\n",
    "これをpythonプログラムで書き、シミュレータを実行して結果を得ます。\n"
   ]
  },
  {
   "cell_type": "code",
   "execution_count": 3,
   "metadata": {
    "colab": {},
    "colab_type": "code",
    "id": "OcV06PgvIjAB"
   },
   "outputs": [],
   "source": [
    "a.qubo=np.array([\n",
    "  [-2,2,2,2,2,0,0,0,2,0,0,0,2,0,0,0],\n",
    "  [0,-2,2,2,0,2,0,0,0,2,0,0,0,2,0,0],\n",
    "  [0,0,-2,2,0,0,2,0,0,0,2,0,0,0,2,0],\n",
    "  [0,0,0,-2,0,0,0,2,0,0,0,2,0,0,0,2],\n",
    "  [0,0,0,0,-2,2,2,2,2,0,0,0,2,0,0,0],\n",
    "  [0,0,0,0,0,-2,2,2,0,2,0,0,0,2,0,0],\n",
    "  [0,0,0,0,0,0,-2,2,0,0,2,0,0,0,2,0],\n",
    "  [0,0,0,0,0,0,0,-2,0,0,0,2,0,0,0,2],\n",
    "  [0,0,0,0,0,0,0,0,-2,2,2,2,2,0,0,0],\n",
    "  [0,0,0,0,0,0,0,0,0,-2,2,2,0,2,0,0],\n",
    "  [0,0,0,0,0,0,0,0,0,0,-2,2,0,0,2,0],\n",
    "  [0,0,0,0,0,0,0,0,0,0,0,-2,0,0,0,2],\n",
    "  [0,0,0,0,0,0,0,0,0,0,0,0,-2,2,2,2],\n",
    "  [0,0,0,0,0,0,0,0,0,0,0,0,0,-2,2,2],\n",
    "  [0,0,0,0,0,0,0,0,0,0,0,0,0,0,-2,2],\n",
    "  [0,0,0,0,0,0,0,0,0,0,0,0,0,0,0,-2],\n",
    "])+np.array([\n",
    "  [0,0,0,0,0,2,0,2,0,1,0,1,0,3,0,3],\n",
    "  [0,0,0,0,2,0,2,0,1,0,1,0,3,0,3,0],\n",
    "  [0,0,0,0,0,2,0,2,0,1,0,1,0,3,0,3],\n",
    "  [0,0,0,0,2,0,2,0,1,0,1,0,3,0,3,0],\n",
    "  [0,0,0,0,0,0,0,0,0,4,0,4,0,2,0,2],\n",
    "  [0,0,0,0,0,0,0,0,4,0,4,0,2,0,2,0],\n",
    "  [0,0,0,0,0,0,0,0,0,4,0,4,0,2,0,2],\n",
    "  [0,0,0,0,0,0,0,0,4,0,4,0,2,0,2,0],\n",
    "  [0,0,0,0,0,0,0,0,0,0,0,0,0,2,0,2],\n",
    "  [0,0,0,0,0,0,0,0,0,0,0,0,2,0,2,0],\n",
    "  [0,0,0,0,0,0,0,0,0,0,0,0,0,2,0,2],\n",
    "  [0,0,0,0,0,0,0,0,0,0,0,0,2,0,2,0],\n",
    "  [0,0,0,0,0,0,0,0,0,0,0,0,0,0,0,0],\n",
    "  [0,0,0,0,0,0,0,0,0,0,0,0,0,0,0,0],\n",
    "  [0,0,0,0,0,0,0,0,0,0,0,0,0,0,0,0],\n",
    "  [0,0,0,0,0,0,0,0,0,0,0,0,0,0,0,0],\n",
    "])*0.25\n",
    "answer = a.sa()"
   ]
  },
  {
   "cell_type": "markdown",
   "metadata": {
    "colab_type": "text",
    "id": "OxJ2NXbFVJgi"
   },
   "source": [
    "得られた結果を表示してみます。"
   ]
  },
  {
   "cell_type": "code",
   "execution_count": 6,
   "metadata": {
    "colab": {},
    "colab_type": "code",
    "id": "r9yLIMIqUjDT"
   },
   "outputs": [
    {
     "name": "stdout",
     "output_type": "stream",
     "text": [
      "[0, 0, 1, 0, 0, 0, 0, 1, 0, 1, 0, 0, 1, 0, 0, 0]\n",
      "Result: \n",
      " [[0 0 1 0]\n",
      " [0 0 0 1]\n",
      " [0 1 0 0]\n",
      " [1 0 0 0]]\n"
     ]
    }
   ],
   "source": [
    "print(answer)\n",
    "N=4\n",
    "result = np.empty((4, 4), dtype = np.int)\n",
    "i = 0\n",
    "\n",
    "for x in range(N):\n",
    "    for y in range(N):\n",
    "        if(answer[i] == 1):\n",
    "            result[x, y] = 1\n",
    "        else:\n",
    "            result[x, y] = 0\n",
    "        i += 1\n",
    "print(\"Result: \\n\", result)"
   ]
  },
  {
   "cell_type": "markdown",
   "metadata": {
    "colab_type": "text",
    "id": "vHjXsQvdVM36"
   },
   "source": [
    "結果は\n",
    "\n",
    "[1, 0, 0, 0, 0, 0, 0, 1, 0, 1, 0, 0, 0, 0, 1, 0]\n",
    "\n",
    "となりました。４つごとに、都市A、B、C、Dを訪れる順番のところに1が設定されています。この結果によれば、都市A→C→D→B→Aの順に訪れることになります。計算すると移動距離は７ですので、最短のルートが計算されていることがわかります。"
   ]
  }
 ],
 "metadata": {
  "colab": {
   "collapsed_sections": [],
   "include_colab_link": true,
   "name": "travelingsalesman.ipynb",
   "provenance": [],
   "version": "0.3.2"
  },
  "kernelspec": {
   "display_name": "Python 3",
   "language": "python",
   "name": "python3"
  },
  "language_info": {
   "codemirror_mode": {
    "name": "ipython",
    "version": 3
   },
   "file_extension": ".py",
   "mimetype": "text/x-python",
   "name": "python",
   "nbconvert_exporter": "python",
   "pygments_lexer": "ipython3",
   "version": "3.5.3"
  }
 },
 "nbformat": 4,
 "nbformat_minor": 1
}
