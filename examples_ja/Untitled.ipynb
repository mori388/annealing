{
 "cells": [
  {
   "cell_type": "code",
   "execution_count": 12,
   "metadata": {},
   "outputs": [],
   "source": [
    "import wildqat as wq\n",
    "import numpy as np\n",
    "import os\n",
    "dd = wq.opt()"
   ]
  },
  {
   "cell_type": "code",
   "execution_count": 10,
   "metadata": {},
   "outputs": [],
   "source": [
    "#座標\n",
    "positions = np.array((\n",
    "    (24050.0000, 123783),\n",
    "    (24216.6667, 123933),\n",
    "    (24233.3333, 123950),\n",
    "    (24233.3333, 124016),\n",
    "    (24250.0000, 123866),\n",
    "    (24300.0000, 123683),\n",
    "    (24316.6667, 123900),\n",
    "    (24316.6667, 124083),\n",
    "    (24333.3333, 123733),\n",
    "))\n",
    "positions = np.array((\n",
    "    (3, 0),\n",
    "    (3, 2),\n",
    "    (0, 2),\n",
    "    (0, 0),\n",
    "))\n",
    "#距離の計算\n",
    "def dist(a, b):\n",
    "    a = np.array(a)\n",
    "    b = np.array(b)\n",
    "    return np.sqrt(((a - b)**2).sum())\n",
    "#町の数\n",
    "N = len(positions)\n",
    "#定数A\n",
    "A = 400"
   ]
  },
  {
   "cell_type": "code",
   "execution_count": null,
   "metadata": {},
   "outputs": [],
   "source": [
    "#行列Dを計算\n",
    "D = np.empty((N, N), dtype = np.float64)\n",
    "for i in range(N):\n",
    "    for j in range(N):\n",
    "        D[i, j] = dist(positions[i], positions[j])\n",
    "#クロネッカーデルタを定義\n",
    "def delta(i, j):\n",
    "    if(i == j):\n",
    "        return 1\n",
    "    else:\n",
    "        return 0\n",
    "def gamma(i, j):\n",
    "    if(i != j):\n",
    "        return 1\n",
    "    else:\n",
    "        return 0\n",
    "\n",
    "#行列Jを計算\n",
    "J = np.empty((N, N, N, N), dtype = np.float64)\n",
    "for a in range(N):\n",
    "    for t1 in range(N):\n",
    "        for b in range(N):\n",
    "            for t2 in range(N):\n",
    "                J[a, t1, b, t2] =   delta(t1+1, t2) * D[a, b] + A * delta(t1, t2) + A * delta(a, b)\\\n",
    "                                - 2 * A * delta(a, b) * delta(t1, t2) - 2 * A * delta(a, b) * delta(t1, t2)\n",
    "#定数項の計算\n",
    "C = 2 * A * N"
   ]
  },
  {
   "cell_type": "code",
   "execution_count": 13,
   "metadata": {},
   "outputs": [],
   "source": [
    "#最適化計算\n",
    "dd.qubo=np.array([\n",
    "  [-2,2,2,2,2,0,0,0,2,0,0,0,2,0,0,0],\n",
    "  [0,-2,2,2,0,2,0,0,0,2,0,0,0,2,0,0],\n",
    "  [0,0,-2,2,0,0,2,0,0,0,2,0,0,0,2,0],\n",
    "  [0,0,0,-2,0,0,0,2,0,0,0,2,0,0,0,2],\n",
    "  [0,0,0,0,-2,2,2,2,2,0,0,0,2,0,0,0],\n",
    "  [0,0,0,0,0,-2,2,2,0,2,0,0,0,2,0,0],\n",
    "  [0,0,0,0,0,0,-2,2,0,0,2,0,0,0,2,0],\n",
    "  [0,0,0,0,0,0,0,-2,0,0,0,2,0,0,0,2],\n",
    "  [0,0,0,0,0,0,0,0,-2,2,2,2,2,0,0,0],\n",
    "  [0,0,0,0,0,0,0,0,0,-2,2,2,0,2,0,0],\n",
    "  [0,0,0,0,0,0,0,0,0,0,-2,2,0,0,2,0],\n",
    "  [0,0,0,0,0,0,0,0,0,0,0,-2,0,0,0,2],\n",
    "  [0,0,0,0,0,0,0,0,0,0,0,0,-2,2,2,2],\n",
    "  [0,0,0,0,0,0,0,0,0,0,0,0,0,-2,2,2],\n",
    "  [0,0,0,0,0,0,0,0,0,0,0,0,0,0,-2,2],\n",
    "  [0,0,0,0,0,0,0,0,0,0,0,0,0,0,0,-2],\n",
    "])+np.array([\n",
    "  [0,0,0,0,0,2,0,2,0,1,0,1,0,3,0,3],\n",
    "  [0,0,0,0,2,0,2,0,1,0,1,0,3,0,3,0],\n",
    "  [0,0,0,0,0,2,0,2,0,1,0,1,0,3,0,3],\n",
    "  [0,0,0,0,2,0,2,0,1,0,1,0,3,0,3,0],\n",
    "  [0,0,0,0,0,0,0,0,0,4,0,4,0,2,0,2],\n",
    "  [0,0,0,0,0,0,0,0,4,0,4,0,2,0,2,0],\n",
    "  [0,0,0,0,0,0,0,0,0,4,0,4,0,2,0,2],\n",
    "  [0,0,0,0,0,0,0,0,4,0,4,0,2,0,2,0],\n",
    "  [0,0,0,0,0,0,0,0,0,0,0,0,0,2,0,2],\n",
    "  [0,0,0,0,0,0,0,0,0,0,0,0,2,0,2,0],\n",
    "  [0,0,0,0,0,0,0,0,0,0,0,0,0,2,0,2],\n",
    "  [0,0,0,0,0,0,0,0,0,0,0,0,2,0,2,0],\n",
    "  [0,0,0,0,0,0,0,0,0,0,0,0,0,0,0,0],\n",
    "  [0,0,0,0,0,0,0,0,0,0,0,0,0,0,0,0],\n",
    "  [0,0,0,0,0,0,0,0,0,0,0,0,0,0,0,0],\n",
    "  [0,0,0,0,0,0,0,0,0,0,0,0,0,0,0,0],\n",
    "])*0.25\n",
    "arrangement = dd.sa()"
   ]
  },
  {
   "cell_type": "code",
   "execution_count": 14,
   "metadata": {},
   "outputs": [
    {
     "name": "stdout",
     "output_type": "stream",
     "text": [
      "Result: \n",
      " [[0 1 0 0]\n",
      " [0 0 1 0]\n",
      " [1 0 0 0]\n",
      " [0 0 0 1]]\n"
     ]
    }
   ],
   "source": [
    "N = 4\n",
    "result = np.empty((N, N), dtype = np.int)\n",
    "i = 0\n",
    "\n",
    "for x in range(N):\n",
    "    for y in range(N):\n",
    "        if(arrangement[i] == 1):\n",
    "            result[x, y] = 1\n",
    "        else:\n",
    "            result[x, y] = 0\n",
    "        i += 1\n",
    "print(\"Result: \\n\", result)"
   ]
  },
  {
   "cell_type": "code",
   "execution_count": null,
   "metadata": {},
   "outputs": [],
   "source": []
  }
 ],
 "metadata": {
  "kernelspec": {
   "display_name": "Python 3",
   "language": "python",
   "name": "python3"
  },
  "language_info": {
   "codemirror_mode": {
    "name": "ipython",
    "version": 3
   },
   "file_extension": ".py",
   "mimetype": "text/x-python",
   "name": "python",
   "nbconvert_exporter": "python",
   "pygments_lexer": "ipython3",
   "version": "3.5.3"
  }
 },
 "nbformat": 4,
 "nbformat_minor": 2
}
