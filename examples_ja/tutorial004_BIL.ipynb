{
 "cells": [
  {
   "cell_type": "markdown",
   "metadata": {
    "colab_type": "text",
    "id": "37f1qQvLpWzM"
   },
   "source": [
    "#整数計画問題 / Binary Integer Linear Programming\n",
    "バイナリ値からなるベクトルxについてSx=bという制約条件を満たす中で、c⋅xが最大となるxを求める。\n",
    "コスト関数は単純に上記の制約条件と最大にするコスト関数を繋げて、\n",
    "\n",
    "<img src=\"./img/004_0.png\">\n",
    "\n"
   ]
  },
  {
   "cell_type": "markdown",
   "metadata": {
    "colab_type": "text",
    "id": "hAKGp9-RpyJF"
   },
   "source": [
    "##例題\n",
    "下記のような例題を用意します。\n",
    "\n",
    "<img src=\"./img/004_1.png\">\n"
   ]
  },
  {
   "cell_type": "markdown",
   "metadata": {
    "colab_type": "text",
    "id": "Uy6U_6rIqLHH"
   },
   "source": [
    "##第1項を計算する\n",
    "第1項目はSx=bという条件を満たす組み合わせを指定します。\n",
    "まずはWildqatの準備から入り、指定の式をb^2 - 2*b*A + A^2の形にします。定数は無視して、-2*b*A+A^2をそれぞれ計算して足し合わせます。"
   ]
  },
  {
   "cell_type": "code",
   "execution_count": 0,
   "metadata": {
    "colab": {},
    "colab_type": "code",
    "id": "vvIRMcqho_Ld"
   },
   "outputs": [],
   "source": [
    "!pip install -U wildqat"
   ]
  },
  {
   "cell_type": "code",
   "execution_count": 1,
   "metadata": {
    "colab": {},
    "colab_type": "code",
    "id": "EWvg3V3vqlBC"
   },
   "outputs": [],
   "source": [
    "import wildqat as wq\n",
    "import numpy as np\n",
    "a = wq.opt()"
   ]
  },
  {
   "cell_type": "code",
   "execution_count": 5,
   "metadata": {
    "colab": {
     "base_uri": "https://localhost:8080/",
     "height": 68
    },
    "colab_type": "code",
    "id": "ubiKxrvuqoCi",
    "outputId": "651f87ce-0b57-41d2-da70-9e24c1097cad"
   },
   "outputs": [
    {
     "name": "stdout",
     "output_type": "stream",
     "text": [
      "[[-34.  32.  36.]\n",
      " [  0. -24.  16.]\n",
      " [  0.   0. -26.]]\n"
     ]
    }
   ],
   "source": [
    "A = [[3,2,1],[5,2,3]]\n",
    "b = [3,5]\n",
    "\n",
    "a.qubo = np.zeros((3,3))\n",
    "\n",
    "for i in range(len(b)):\n",
    "  a.qubo += -2*b[i]*np.diag(A[i]) + wq.sqr(A[i])\n",
    "\n",
    "print(a.qubo)\n"
   ]
  },
  {
   "cell_type": "markdown",
   "metadata": {
    "colab_type": "text",
    "id": "P01zzQ6MrtEO"
   },
   "source": [
    "ここで一旦確認をしてみます。上記の条件を満たすのは、"
   ]
  },
  {
   "cell_type": "code",
   "execution_count": 6,
   "metadata": {
    "colab": {
     "base_uri": "https://localhost:8080/",
     "height": 51
    },
    "colab_type": "code",
    "id": "CiCLoHalrStB",
    "outputId": "eccaa340-430a-498f-c489-501c27dd6381"
   },
   "outputs": [
    {
     "data": {
      "text/plain": [
       "[1, 0, 0]"
      ]
     },
     "execution_count": 6,
     "metadata": {},
     "output_type": "execute_result"
    }
   ],
   "source": [
    "a.sa()"
   ]
  },
  {
   "cell_type": "code",
   "execution_count": 7,
   "metadata": {
    "colab": {
     "base_uri": "https://localhost:8080/",
     "height": 51
    },
    "colab_type": "code",
    "id": "PBn6sGCmrq6k",
    "outputId": "4bb27fc0-43b4-44e2-cde4-762ea7df8cec"
   },
   "outputs": [
    {
     "data": {
      "text/plain": [
       "[0, 1, 1]"
      ]
     },
     "execution_count": 7,
     "metadata": {},
     "output_type": "execute_result"
    }
   ],
   "source": [
    "a.sa()"
   ]
  },
  {
   "cell_type": "markdown",
   "metadata": {
    "colab_type": "text",
    "id": "mNloFgUrrso7"
   },
   "source": [
    "上記のように[0,1,1]や[1,0,0]がでてきました。"
   ]
  },
  {
   "cell_type": "markdown",
   "metadata": {
    "colab_type": "text",
    "id": "hSCF36qsrRG7"
   },
   "source": [
    "##次に第2項を計算する\n",
    "その次にもう１つのコスト関数を計算します。こちらは、"
   ]
  },
  {
   "cell_type": "code",
   "execution_count": 9,
   "metadata": {
    "colab": {
     "base_uri": "https://localhost:8080/",
     "height": 68
    },
    "colab_type": "code",
    "id": "1X4BrX2srO5S",
    "outputId": "d72f7543-d7e7-477c-b7d6-dcc214921136"
   },
   "outputs": [
    {
     "name": "stdout",
     "output_type": "stream",
     "text": [
      "[[1 0 0]\n",
      " [0 2 0]\n",
      " [0 0 1]]\n"
     ]
    }
   ],
   "source": [
    "matrix2 = np.diag([1,2,1])\n",
    "print(matrix2)"
   ]
  },
  {
   "cell_type": "markdown",
   "metadata": {
    "colab_type": "text",
    "id": "Zkbs5pjFsPHL"
   },
   "source": [
    "#QUBOをつなげて計算する\n",
    "これらをつなげて計算してみます。"
   ]
  },
  {
   "cell_type": "code",
   "execution_count": 10,
   "metadata": {
    "colab": {
     "base_uri": "https://localhost:8080/",
     "height": 51
    },
    "colab_type": "code",
    "id": "3tSYIYUIsT2i",
    "outputId": "1fe6eab7-5d57-4528-f887-e58b74213ee9"
   },
   "outputs": [
    {
     "data": {
      "text/plain": [
       "[0, 1, 1]"
      ]
     },
     "execution_count": 10,
     "metadata": {},
     "output_type": "execute_result"
    }
   ],
   "source": [
    "B = 1\n",
    "a.qubo += - B * matrix2\n",
    "a.sa()"
   ]
  },
  {
   "cell_type": "markdown",
   "metadata": {
    "colab_type": "text",
    "id": "561L2mKAsynt"
   },
   "source": [
    "答えは、[0,1,1]となりました。\n",
    "念のためコスト関数の推移も見てみます。"
   ]
  },
  {
   "cell_type": "code",
   "execution_count": 11,
   "metadata": {
    "colab": {
     "base_uri": "https://localhost:8080/",
     "height": 347
    },
    "colab_type": "code",
    "id": "BrqXVTEzsKBZ",
    "outputId": "e3037a5a-0626-4a2c-c94b-c371e25dcff1"
   },
   "outputs": [
    {
     "data": {
      "image/png": "[encoded data removed]",
      "text/plain": [
       "<Figure size 432x288 with 1 Axes>"
      ]
     },
     "metadata": {},
     "output_type": "display_data"
    }
   ],
   "source": [
    "a.plot()"
   ]
  },
  {
   "cell_type": "code",
   "execution_count": null,
   "metadata": {},
   "outputs": [],
   "source": []
  }
 ],
 "metadata": {
  "colab": {
   "name": "tutorial004_BIL.ipynb",
   "provenance": [],
   "version": "0.3.2"
  },
  "kernelspec": {
   "display_name": "Python 3",
   "language": "python",
   "name": "python3"
  },
  "language_info": {
   "codemirror_mode": {
    "name": "ipython",
    "version": 3
   },
   "file_extension": ".py",
   "mimetype": "text/x-python",
   "name": "python",
   "nbconvert_exporter": "python",
   "pygments_lexer": "ipython3",
   "version": "3.5.3"
  }
 },
 "nbformat": 4,
 "nbformat_minor": 1
}
