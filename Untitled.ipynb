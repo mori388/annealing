{
 "cells": [
  {
   "cell_type": "code",
   "execution_count": 15,
   "metadata": {},
   "outputs": [
    {
     "ename": "ImportError",
     "evalue": "cannot import name 'QuboSolver'",
     "output_type": "error",
     "traceback": [
      "\u001b[0;31m---------------------------------------------------------------------------\u001b[0m",
      "\u001b[0;31mImportError\u001b[0m                               Traceback (most recent call last)",
      "\u001b[0;32m<ipython-input-15-3dc0e4023472>\u001b[0m in \u001b[0;36m<module>\u001b[0;34m()\u001b[0m\n\u001b[0;32m----> 1\u001b[0;31m \u001b[0;32mfrom\u001b[0m \u001b[0mwildqat\u001b[0m \u001b[0;32mimport\u001b[0m \u001b[0mQuboSolver\u001b[0m\u001b[0;34m\u001b[0m\u001b[0m\n\u001b[0m\u001b[1;32m      2\u001b[0m \u001b[0;32mfrom\u001b[0m \u001b[0mwildqat\u001b[0m\u001b[0;34m.\u001b[0m\u001b[0mnetwork\u001b[0m\u001b[0;34m.\u001b[0m\u001b[0mlocal_endpoint\u001b[0m \u001b[0;32mimport\u001b[0m \u001b[0mLocalEndpoint\u001b[0m\u001b[0;34m\u001b[0m\u001b[0m\n\u001b[1;32m      3\u001b[0m \u001b[0;32mfrom\u001b[0m \u001b[0mwildqat\u001b[0m\u001b[0;34m.\u001b[0m\u001b[0mannealer\u001b[0m\u001b[0;34m.\u001b[0m\u001b[0msimulated\u001b[0m\u001b[0;34m.\u001b[0m\u001b[0msimulated_annealer\u001b[0m \u001b[0;32mimport\u001b[0m \u001b[0mSimulatedAnnealer\u001b[0m\u001b[0;34m\u001b[0m\u001b[0m\n\u001b[1;32m      4\u001b[0m \u001b[0;32mfrom\u001b[0m \u001b[0mwildqat\u001b[0m\u001b[0;34m.\u001b[0m\u001b[0mannealer\u001b[0m\u001b[0;34m.\u001b[0m\u001b[0msimulated\u001b[0m\u001b[0;34m.\u001b[0m\u001b[0msingle_spin_flip_strategy\u001b[0m \u001b[0;32mimport\u001b[0m \u001b[0mSingleSpinFlipStrategy\u001b[0m\u001b[0;34m\u001b[0m\u001b[0m\n\u001b[1;32m      5\u001b[0m \u001b[0;32mfrom\u001b[0m \u001b[0mwildqat\u001b[0m\u001b[0;34m.\u001b[0m\u001b[0mannealer\u001b[0m\u001b[0;34m.\u001b[0m\u001b[0msimulated\u001b[0m\u001b[0;34m.\u001b[0m\u001b[0mtemperature_schedule\u001b[0m \u001b[0;32mimport\u001b[0m \u001b[0mTemperatureSchedule\u001b[0m\u001b[0;34m\u001b[0m\u001b[0m\n",
      "\u001b[0;31mImportError\u001b[0m: cannot import name 'QuboSolver'"
     ]
    }
   ],
   "source": [
    "from wildqat import QuboSolver\n",
    "from wildqat.network.local_endpoint import LocalEndpoint\n",
    "from wildqat.annealer.simulated.simulated_annealer import SimulatedAnnealer\n",
    "from wildqat.annealer.simulated.single_spin_flip_strategy import SingleSpinFlipStrategy\n",
    "from wildqat.annealer.simulated.temperature_schedule import TemperatureSchedule\n",
    "from wildqat.util.matrix import hamiltonian_energy\n",
    "\n",
    "schedule = TemperatureSchedule(initial_temperature=1000, last_temperature=0.1, scale=0.8)\n",
    "strategy = SingleSpinFlipStrategy(repetition=10)\n",
    "annealer = SimulatedAnnealer(schedule=schedule, strategy=strategy)\n",
    "local_endpoint = LocalEndpoint(annealer=annealer)"
   ]
  },
  {
   "cell_type": "code",
   "execution_count": 6,
   "metadata": {},
   "outputs": [],
   "source": [
    "a.J=[[0,2,2,2],\n",
    "     [2,0,2,2],\n",
    "     [2,2,0,2],\n",
    "     [2,2,2,0]]"
   ]
  },
  {
   "cell_type": "code",
   "execution_count": 12,
   "metadata": {},
   "outputs": [
    {
     "data": {
      "text/plain": [
       "[0, 1]"
      ]
     },
     "execution_count": 12,
     "metadata": {},
     "output_type": "execute_result"
    }
   ],
   "source": [
    "a.sa()"
   ]
  },
  {
   "cell_type": "code",
   "execution_count": 11,
   "metadata": {},
   "outputs": [
    {
     "data": {
      "text/plain": [
       "[0, 1]"
      ]
     },
     "execution_count": 11,
     "metadata": {},
     "output_type": "execute_result"
    }
   ],
   "source": [
    "a.qubo=[[-3,4],[0,-4]]\n",
    "a.sa()"
   ]
  },
  {
   "cell_type": "code",
   "execution_count": null,
   "metadata": {},
   "outputs": [],
   "source": []
  }
 ],
 "metadata": {
  "kernelspec": {
   "display_name": "Python 3",
   "language": "python",
   "name": "python3"
  },
  "language_info": {
   "codemirror_mode": {
    "name": "ipython",
    "version": 3
   },
   "file_extension": ".py",
   "mimetype": "text/x-python",
   "name": "python",
   "nbconvert_exporter": "python",
   "pygments_lexer": "ipython3",
   "version": "3.5.3"
  }
 },
 "nbformat": 4,
 "nbformat_minor": 2
}
