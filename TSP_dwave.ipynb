{
 "cells": [
  {
   "cell_type": "code",
   "execution_count": 2,
   "metadata": {},
   "outputs": [],
   "source": [
    "import wildqat as wq\n",
    "import numpy as np\n",
    "import os\n",
    "import time\n",
    "import math\n",
    "import matplotlib.pyplot as plt\n",
    "aaa = wq.opt()"
   ]
  },
  {
   "cell_type": "markdown",
   "metadata": {},
   "source": [
    "# データ読み込み"
   ]
  },
  {
   "cell_type": "code",
   "execution_count": 55,
   "metadata": {},
   "outputs": [],
   "source": [
    "#座標\n",
    "positions = np.array((\n",
    "    (24050.0000, 123783),\n",
    "    (24216.6667, 123933),\n",
    "    (24233.3333, 123950),\n",
    "    (24233.3333, 124016),\n",
    "    (24250.0000, 123866),\n",
    "    (24300.0000, 123683),\n",
    "    (24316.6667, 123900),\n",
    "    (24316.6667, 124083),\n",
    "    (24333.3333, 123733),\n",
    "))\n",
    "\n",
    "positions = np.array((\n",
    "    (0, 0),\n",
    "    (2, 0),\n",
    "    (2, 4),\n",
    "    (0, 3),\n",
    "))\n",
    "\n",
    "#距離の計算\n",
    "def dist(a, b):\n",
    "    a = np.array(a)\n",
    "    b = np.array(b)\n",
    "    return np.sqrt(((a - b)**2).sum())\n",
    "\n",
    "#町の数\n",
    "N = len(positions)\n",
    "#定数A\n",
    "A = 2000\n",
    "\n",
    "#距離行列Dを計算\n",
    "D = np.empty((N, N), dtype = np.float64)\n",
    "for i in range(N):\n",
    "    for j in range(N):\n",
    "        D[i, j] = dist(positions[i], positions[j])"
   ]
  },
  {
   "cell_type": "markdown",
   "metadata": {},
   "source": [
    "# 行列Jの計算"
   ]
  },
  {
   "cell_type": "code",
   "execution_count": 41,
   "metadata": {},
   "outputs": [],
   "source": [
    "#クロネッカーデルタを定義\n",
    "def delta(i, j):\n",
    "    if(i == j):\n",
    "        return 1\n",
    "    else:\n",
    "        return 0\n",
    "\n",
    "#行列Jを計算\n",
    "J = np.empty((N, N, N, N), dtype = np.float64)\n",
    "for a in range(N):\n",
    "    for t1 in range(N):\n",
    "        for b in range(N):\n",
    "            for t2 in range(N):\n",
    "                J[a, t1, b, t2] =    delta((t1+1)%N, t2) * D[a, b] \\\n",
    "                                    + A * delta(t1, t2) + A * delta(a, b)- 4 * A * delta(a, b) * delta(t1, t2) \n",
    "#定数項の計算\n",
    "C = 2 * A * N"
   ]
  },
  {
   "cell_type": "markdown",
   "metadata": {},
   "source": [
    "# QUBO行列Qを計算"
   ]
  },
  {
   "cell_type": "code",
   "execution_count": 42,
   "metadata": {},
   "outputs": [],
   "source": [
    "#Qの計算\n",
    "Q = np.zeros((N*N,N*N), dtype = np.float64)\n",
    "x = 0\n",
    "for a in range(N):\n",
    "    for t1 in range(N):\n",
    "        y = 0\n",
    "        for b in range(N):\n",
    "            for t2 in range(N):\n",
    "                if x<=y:\n",
    "                    Q[x,y] = int(J[a,t1,b,t2])\n",
    "                else:\n",
    "                    Q[y,x] += int(J[a,t1,b,t2])\n",
    "                y = y + 1\n",
    "        x = x + 1\n",
    "        \n",
    "# 初めは0番目のポイント\n",
    "Q [0,0] -= 10*A\n",
    "#print(Q)"
   ]
  },
  {
   "cell_type": "code",
   "execution_count": 43,
   "metadata": {},
   "outputs": [],
   "source": [
    "def cast_result(r):\n",
    "    # 結果成型\n",
    "    result = np.empty((N, N), dtype = np.int)\n",
    "    i = 0\n",
    "    for x in range(N):\n",
    "        for y in range(N):\n",
    "            if(r[i] == 1):\n",
    "                result[x, y] = 1\n",
    "            else:\n",
    "                result[x, y] = 0\n",
    "            i += 1\n",
    "    return result\n",
    "# 結果のチェック\n",
    "def check_result(result):\n",
    "    ch = True\n",
    "    for i in range(N):\n",
    "        if list(result[i]).count(1)!=1:\n",
    "            ch = False\n",
    "        if list(result[:,i]).count(1)!=1:\n",
    "            ch = False\n",
    "    return ch\n",
    "\n",
    "def cal_len(result):\n",
    "    #距離を計算する\n",
    "    length = 0\n",
    "    for t in range(N):\n",
    "        for a in range(N):\n",
    "            for b in range(N):\n",
    "                if(result[a,t] == 1 and result[b,(t+1)%N] == 1):\n",
    "                    length += D[a,b]\n",
    "    return length"
   ]
  },
  {
   "cell_type": "markdown",
   "metadata": {},
   "source": [
    "# 最適化計算"
   ]
  },
  {
   "cell_type": "code",
   "execution_count": 44,
   "metadata": {},
   "outputs": [
    {
     "name": "stdout",
     "output_type": "stream",
     "text": [
      "SA_time:1.8864779472351074[sec]\n",
      "12.0\n",
      "SA_time:1.8812470436096191[sec]\n",
      "12.0\n",
      "SA_time:2.154350996017456[sec]\n",
      "12.94427190999916\n",
      "SA_time:2.0179479122161865[sec]\n",
      "12.0\n",
      "SA_time:1.8574540615081787[sec]\n",
      "12.0\n",
      "SA_time:2.0150249004364014[sec]\n",
      "12.94427190999916\n",
      "SA_time:1.9039061069488525[sec]\n",
      "12.0\n",
      "SA_time:2.0323801040649414[sec]\n",
      "12.94427190999916\n",
      "SA_time:1.8693499565124512[sec]\n",
      "12.94427190999916\n",
      "SA_time:1.930345058441162[sec]\n",
      "12.94427190999916\n",
      "min= 12.94427190999916\n"
     ]
    }
   ],
   "source": [
    "aaa.qubo=Q\n",
    "min =100000000\n",
    "r2 = []\n",
    "for i in range(5):\n",
    "    start = time.time()\n",
    "    arrangement = aaa.sa()\n",
    "    elapsed_time = time.time() - start\n",
    "    print (\"SA_time:{0}\".format(elapsed_time) + \"[sec]\")\n",
    "    #arrangement = arrangement[0]\n",
    "    result = cast_result(arrangement)\n",
    "    if check_result(result):\n",
    "        ll = cal_len(result)\n",
    "        print(ll)\n",
    "        if ll<min:\n",
    "            min = ll\n",
    "            r2 = result\n",
    "print(\"min=\",ll)"
   ]
  },
  {
   "cell_type": "code",
   "execution_count": 45,
   "metadata": {},
   "outputs": [
    {
     "name": "stdout",
     "output_type": "stream",
     "text": [
      "[[1 0 0 0]\n",
      " [0 0 0 1]\n",
      " [0 0 1 0]\n",
      " [0 1 0 0]]\n"
     ]
    }
   ],
   "source": [
    "print(r2)"
   ]
  },
  {
   "cell_type": "code",
   "execution_count": 46,
   "metadata": {},
   "outputs": [
    {
     "data": {
      "image/png": "[encoded data removed]",
      "text/plain": [
       "<Figure size 432x288 with 1 Axes>"
      ]
     },
     "metadata": {},
     "output_type": "display_data"
    }
   ],
   "source": [
    "aaa.plot()"
   ]
  },
  {
   "cell_type": "code",
   "execution_count": 48,
   "metadata": {},
   "outputs": [
    {
     "name": "stdout",
     "output_type": "stream",
     "text": [
      "Simulated Annealing\n",
      "12.0\n"
     ]
    },
    {
     "data": {
      "image/png": "[encoded data removed]",
      "text/plain": [
       "<Figure size 432x288 with 1 Axes>"
      ]
     },
     "metadata": {},
     "output_type": "display_data"
    }
   ],
   "source": [
    "def plot_route(state, positions):\n",
    "    route = [positions[np.argmax(row)] for row in state]\n",
    "    route.append(route[0])\n",
    "    route = np.array(route)\n",
    "    \n",
    "    d = 0\n",
    "    for i in range(1, len(route)):\n",
    "        d += dist(route[i - 1], route[i])\n",
    "    print(d)\n",
    "    plt.plot(route[:, 0], route[:, 1], '-o')\n",
    "print('Simulated Annealing')\n",
    "plot_route(r2, positions)\n",
    "plt.show()"
   ]
  },
  {
   "cell_type": "markdown",
   "metadata": {},
   "source": [
    "# Oceanで解く\n",
    "\n",
    "ExactSolver：厳密解を求める"
   ]
  },
  {
   "cell_type": "code",
   "execution_count": 49,
   "metadata": {},
   "outputs": [
    {
     "name": "stdout",
     "output_type": "stream",
     "text": [
      "SA_time:2.0237510204315186[sec]\n",
      "[[1 0 0 0]\n",
      " [0 1 0 0]\n",
      " [0 0 0 1]\n",
      " [0 0 1 0]]\n",
      "12.94427190999916\n"
     ]
    }
   ],
   "source": [
    "import dwave_networkx as dnx\n",
    "import networkx as nx\n",
    "from dimod import *\n",
    "from dwave_qbsolv import QBSolv\n",
    "from dwave.system import DWaveSampler, LazyFixedEmbeddingComposite\n",
    "from dwave.system.composites import EmbeddingComposite, FixedEmbeddingComposite\n",
    "my_dwave_token = \"DEV-df04bbde850ca9170bb81627bc32675b76d18f10\"\n",
    "dictQ = {(i, j): line for i, row in enumerate(Q) for j, line in enumerate(row) if i <= j}\n",
    "b = dimod.BinaryQuadraticModel.from_qubo(dictQ)\n",
    "start = time.time()\n",
    "#r = dimod.ExactSolver().sample(b)\n",
    "elapsed_time = time.time() - start\n",
    "#print (\"ES_time:{0}\".format(elapsed_time) + \"[sec]\")\n",
    "start = time.time()\n",
    "r = dimod.SimulatedAnnealingSampler().sample(b)\n",
    "elapsed_time = time.time() - start\n",
    "print (\"SA_time:{0}\".format(elapsed_time) + \"[sec]\")\n",
    "\n",
    "#response = QBSolv().sample_qubo(dictQ, solver = sampler, solver_limit=60)\n",
    "result = np.empty((N, N), dtype = np.int)\n",
    "i = 0\n",
    "s = r.first.sample\n",
    "for i in range(len(s)):\n",
    "    j = int(i/N)\n",
    "    k = i%N\n",
    "    result[j,k]=s[i]\n",
    "print(result)\n",
    "print(cal_len(result))"
   ]
  },
  {
   "cell_type": "markdown",
   "metadata": {},
   "source": [
    "# DwaveSampler"
   ]
  },
  {
   "cell_type": "code",
   "execution_count": 54,
   "metadata": {},
   "outputs": [
    {
     "name": "stdout",
     "output_type": "stream",
     "text": [
      "DW_time:3.6619620323181152[sec]\n",
      "Total_real_time  324783  μs\n",
      "     0  1  2  3  4  5  6  7  8  9 10 11 12 13 14 15   energy num_oc. ...\n",
      "177  1  0  0  0  0  0  0  1  0  1  0  0  0  0  1  0 -35988.0      10 ...\n",
      "181  1  0  0  0  0  0  0  1  0  1  0  0  0  0  1  0 -35988.0       4 ...\n",
      "186  1  0  0  0  0  0  0  1  0  1  0  0  0  0  1  0 -35988.0       4 ...\n",
      "191  1  0  0  0  0  0  0  1  0  1  0  0  0  0  1  0 -35988.0       1 ...\n",
      "195  1  0  0  0  0  0  0  1  0  1  0  0  0  0  1  0 -35988.0       1 ...\n",
      "200  1  0  0  0  0  0  0  1  0  1  0  0  0  0  1  0 -35988.0       1 ...\n",
      "202  1  0  0  0  0  0  0  1  0  1  0  0  0  0  1  0 -35988.0       1 ...\n",
      "207  1  0  0  0  0  0  0  1  0  1  0  0  0  0  1  0 -35988.0       1 ...\n",
      "208  1  0  0  0  0  0  0  1  0  1  0  0  0  0  1  0 -35988.0       1 ...\n",
      "185  1  0  0  0  0  0  0  1  0  0  0  0  0  0  1  0 -31994.0       1 ...\n",
      "193  1  0  0  0  0  0  0  1  0  1  0  0  0  0  0  0 -31994.0       1 ...\n",
      "1    1  0  0  0  0  0  1  0  0  1  0  0  0  0  1  0 -31990.0      63 ...\n",
      "12   1  0  0  0  0  0  1  0  0  0  0  1  0  0  1  0 -31990.0      10 ...\n",
      "13   1  0  0  0  0  0  1  0  0  1  0  0  0  0  1  0 -31990.0      12 ...\n",
      "15   1  0  0  0  0  0  1  0  0  1  0  0  0  0  1  0 -31990.0      20 ...\n",
      "22   1  0  0  0  0  0  1  0  0  1  0  0  0  0  1  0 -31990.0       4 ...\n",
      "23   1  0  0  0  0  0  1  0  0  1  0  0  0  0  1  0 -31990.0       2 ...\n",
      "24   1  0  0  0  0  0  1  0  0  1  0  0  0  0  1  0 -31990.0       1 ...\n",
      "25   1  0  0  0  0  0  1  0  0  1  0  0  0  0  1  0 -31990.0       1 ...\n",
      "34   1  0  0  0  0  0  1  0  0  1  0  0  0  0  1  0 -31990.0       4 ...\n",
      "44   1  0  0  0  0  0  1  0  0  0  0  1  0  0  1  0 -31990.0       3 ...\n",
      "46   1  0  0  0  0  0  1  0  0  0  0  1  0  0  1  0 -31990.0       1 ...\n",
      "47   1  0  0  0  0  0  1  0  0  1  0  0  0  0  1  0 -31990.0       1 ...\n",
      "56   1  0  0  0  0  0  1  0  0  1  0  0  0  0  1  0 -31990.0       1 ...\n",
      "57   1  0  0  0  0  0  1  0  0  1  0  0  0  0  1  0 -31990.0       1 ...\n",
      "60   1  0  0  0  0  0  1  0  0  1  0  0  0  0  1  0 -31990.0       1 ...\n",
      "62   1  0  0  0  0  0  1  0  0  1  0  0  0  0  1  0 -31990.0       1 ...\n",
      "63   1  0  0  0  0  0  1  0  0  1  0  0  0  0  1  0 -31990.0       1 ...\n",
      "71   1  0  0  0  0  0  1  0  0  0  0  1  0  0  1  0 -31990.0       4 ...\n",
      "79   1  0  0  0  0  0  1  0  0  0  0  1  0  0  1  0 -31990.0       1 ...\n",
      "81   1  0  0  0  0  0  1  0  0  0  0  1  0  0  1  0 -31990.0       2 ...\n",
      "82   1  0  0  0  0  0  1  0  0  1  0  0  0  0  1  0 -31990.0       1 ...\n",
      "88   1  0  0  0  0  0  1  0  0  1  0  0  0  0  1  0 -31990.0       1 ...\n",
      "90   1  0  0  0  0  0  1  0  0  1  0  0  0  0  1  0 -31990.0       1 ...\n",
      "92   1  0  0  0  0  0  1  0  0  1  0  0  0  0  1  0 -31990.0       1 ...\n",
      "94   1  0  0  0  0  0  1  0  0  1  0  0  0  0  1  0 -31990.0       1 ...\n",
      "101  1  0  0  0  0  0  1  0  0  0  0  1  0  0  1  0 -31990.0       1 ...\n",
      "113  1  0  0  0  0  0  1  0  0  0  0  1  0  0  1  0 -31990.0       1 ...\n",
      "121  1  0  0  0  0  0  1  0  0  1  0  0  0  0  1  0 -31990.0       1 ...\n",
      "127  1  0  0  0  0  0  1  0  0  1  0  0  0  0  1  0 -31990.0       2 ...\n",
      "130  1  0  0  0  0  0  1  0  0  0  0  1  0  0  1  0 -31990.0       1 ...\n",
      "138  1  0  0  0  0  0  1  0  0  1  0  0  0  0  1  0 -31990.0       1 ...\n",
      "146  1  0  0  0  0  0  1  0  0  0  0  1  0  0  1  0 -31990.0       2 ...\n",
      "155  1  0  0  0  0  0  1  0  0  1  0  0  0  0  1  0 -31990.0       1 ...\n",
      "198  1  0  0  0  0  0  0  0  0  0  0  1  0  1  1  0 -31990.0       1 ...\n",
      "201  1  0  0  0  1  0  0  0  0  1  0  0  0  0  1  0 -31990.0       1 ...\n",
      "209  1  0  0  0  1  0  0  0  0  1  0  0  0  0  1  0 -31990.0       1 ...\n",
      "210  1  0  0  0  1  0  0  0  0  1  0  0  0  0  1  0 -31990.0       1 ...\n",
      "216  1  0  0  1  0  0  0  0  0  1  0  0  0  0  1  0 -31990.0       1 ...\n",
      "55   1  0  0  0  0  0  1  0  0  0  0  1  0  1  1  0 -31982.0       2 ...\n",
      "32   1  0  0  0  0  0  1  0  0  1  0  1  0  0  1  0 -31980.0       6 ...\n",
      "105  1  0  0  0  0  0  1  0  0  1  0  1  0  0  1  0 -31980.0       1 ...\n",
      "0    1  0  0  0  0  0  1  0  0  0  0  0  0  0  1  0 -28000.0     213 ...\n",
      "2    1  0  0  0  0  0  1  0  0  0  0  0  0  0  1  0 -28000.0      49 ...\n",
      "3    1  0  0  0  0  0  1  0  0  0  0  0  0  0  1  0 -28000.0      42 ...\n",
      "4    1  0  0  0  0  0  1  0  0  0  0  0  0  0  1  0 -28000.0      55 ...\n",
      "6    1  0  0  0  0  0  1  0  0  0  0  0  0  0  1  0 -28000.0       6 ...\n",
      "7    1  0  0  0  0  0  1  0  0  0  0  0  0  0  1  0 -28000.0       7 ...\n",
      "8    1  0  0  0  0  0  1  0  0  0  0  0  0  0  1  0 -28000.0       3 ...\n",
      "9    1  0  0  0  0  0  1  0  0  0  0  0  0  0  1  0 -28000.0       3 ...\n",
      "10   1  0  0  0  0  0  1  0  0  0  0  0  0  0  1  0 -28000.0       1 ...\n",
      "11   1  0  0  0  0  0  1  0  0  0  0  0  0  0  1  0 -28000.0       2 ...\n",
      "14   1  0  0  0  0  0  1  0  0  0  0  0  0  0  1  0 -28000.0      10 ...\n",
      "17   1  0  0  0  0  0  1  0  0  0  0  0  0  0  1  0 -28000.0      10 ...\n",
      "19   1  0  0  0  0  0  1  0  0  0  0  0  0  0  1  0 -28000.0       8 ...\n",
      "20   1  0  0  0  0  0  1  0  0  0  0  0  0  0  1  0 -28000.0      10 ...\n",
      "21   1  0  0  0  0  0  1  0  0  0  0  0  0  0  1  0 -28000.0      15 ...\n",
      "26   1  0  0  0  0  0  1  0  0  0  0  0  0  0  1  0 -28000.0       2 ...\n",
      "27   1  0  0  0  0  0  1  0  0  0  0  0  0  0  1  0 -28000.0       1 ...\n",
      "29   1  0  0  0  0  0  1  0  0  0  0  0  0  0  1  0 -28000.0       2 ...\n",
      "30   1  0  0  0  0  0  1  0  0  0  0  0  0  0  1  0 -28000.0       3 ...\n",
      "35   1  0  0  0  0  0  1  0  0  0  0  0  0  0  1  0 -28000.0       4 ...\n",
      "36   1  0  0  0  0  0  1  0  0  0  0  0  0  0  1  0 -28000.0       1 ...\n",
      "37   1  0  0  0  0  0  1  0  0  0  0  0  0  0  1  0 -28000.0       1 ...\n",
      "38   1  0  0  0  0  0  1  0  0  0  0  0  0  0  1  0 -28000.0       1 ...\n",
      "39   1  0  0  0  0  0  1  0  0  0  0  0  0  0  1  0 -28000.0       1 ...\n",
      "40   1  0  0  0  0  0  1  0  0  0  0  0  0  0  1  0 -28000.0       2 ...\n",
      "41   1  0  0  0  0  0  1  0  0  0  0  0  0  0  1  0 -28000.0       1 ...\n",
      "42   1  0  0  0  0  0  1  0  0  0  0  0  0  0  1  0 -28000.0       1 ...\n",
      "43   1  0  0  0  0  0  1  0  0  0  0  0  0  0  1  0 -28000.0       1 ...\n",
      "45   1  0  0  0  0  0  1  0  0  0  0  0  0  0  1  0 -28000.0       2 ...\n",
      "49   1  0  0  0  0  0  1  0  0  0  0  0  0  0  1  0 -28000.0       5 ...\n",
      "50   1  0  0  0  0  0  1  0  0  0  0  0  0  0  1  0 -28000.0       3 ...\n",
      "52   1  0  0  0  0  0  1  0  0  0  0  0  0  0  1  0 -28000.0       3 ...\n",
      "54   1  0  0  0  0  0  1  0  0  0  0  0  0  0  1  0 -28000.0       3 ...\n",
      "58   1  0  0  0  0  0  1  0  0  0  0  0  0  0  1  0 -28000.0       5 ...\n",
      "64   1  0  0  0  0  0  1  0  0  0  0  0  0  0  1  0 -28000.0       2 ...\n",
      "65   1  0  0  0  0  0  1  0  0  0  0  0  0  0  1  0 -28000.0       1 ...\n",
      "66   1  0  0  0  0  0  1  0  0  0  0  0  0  0  1  0 -28000.0       1 ...\n",
      "68   1  0  0  0  0  0  1  0  0  0  0  0  0  0  1  0 -28000.0       2 ...\n",
      "69   1  0  0  0  0  0  1  0  0  0  0  0  0  0  1  0 -28000.0       1 ...\n",
      "75   1  0  0  0  0  0  1  0  0  0  0  0  0  0  1  0 -28000.0       1 ...\n",
      "76   1  0  0  0  0  0  1  0  0  0  0  0  0  0  1  0 -28000.0       1 ...\n",
      "77   1  0  0  0  0  0  1  0  0  0  0  0  0  0  1  0 -28000.0       1 ...\n",
      "78   1  0  0  0  0  0  1  0  0  0  0  0  0  0  1  0 -28000.0       1 ...\n",
      "84   1  0  0  0  0  0  1  0  0  0  0  0  0  0  1  0 -28000.0       1 ...\n",
      "87   1  0  0  0  0  0  1  0  0  0  0  0  0  0  1  0 -28000.0       2 ...\n",
      "93   1  0  0  0  0  0  1  0  0  0  0  0  0  0  1  0 -28000.0       1 ...\n",
      "97   1  0  0  0  0  0  1  0  0  0  0  0  0  0  1  0 -28000.0       1 ...\n",
      "108  1  0  0  0  0  0  1  0  0  0  0  0  0  0  1  0 -28000.0       1 ...\n",
      "109  1  0  0  0  0  0  1  0  0  0  0  0  0  0  1  0 -28000.0       8 ...\n",
      "123  1  0  0  0  0  0  1  0  0  0  0  0  0  0  1  0 -28000.0       1 ...\n",
      "134  1  0  0  0  0  0  1  0  0  0  0  0  0  0  1  0 -28000.0       1 ...\n",
      "135  1  0  0  0  0  0  1  0  0  0  0  0  0  0  1  0 -28000.0       1 ...\n",
      "137  1  0  0  0  0  0  1  0  0  0  0  0  0  0  1  0 -28000.0       3 ...\n",
      "139  1  0  0  0  0  0  1  0  0  0  0  0  0  0  1  0 -28000.0       4 ...\n",
      "156  1  0  0  0  0  0  1  0  0  0  0  0  0  0  1  0 -28000.0       1 ...\n",
      "161  1  0  0  0  0  0  1  0  0  0  0  0  0  0  1  0 -28000.0       1 ...\n",
      "172  1  0  0  0  0  0  1  0  0  0  0  0  0  0  1  0 -28000.0       1 ...\n",
      "174  1  0  0  0  0  0  1  0  0  0  0  0  0  0  1  0 -28000.0       1 ...\n",
      "196  1  0  0  0  0  0  1  0  0  0  0  0  0  0  1  0 -28000.0       1 ...\n",
      "204  1  0  0  0  0  0  1  0  0  0  0  0  0  0  1  0 -28000.0       1 ...\n",
      "206  1  0  0  0  1  0  0  0  0  0  0  0  0  0  1  0 -28000.0       1 ...\n",
      "214  1  0  0  1  0  0  0  0  0  0  0  0  0  0  1  0 -27996.0       2 ...\n",
      "115  1  0  0  1  0  0  1  0  0  0  0  0  0  0  1  0 -27994.0      10 ...\n",
      "140  1  0  0  1  0  0  1  0  0  0  0  0  0  0  1  0 -27994.0       1 ...\n",
      "145  1  0  0  1  0  0  1  0  0  0  0  0  0  0  1  0 -27994.0       1 ...\n",
      "147  1  0  0  1  0  0  1  0  0  0  0  0  0  0  1  0 -27994.0       2 ...\n",
      "159  1  0  0  1  0  0  1  0  0  0  0  0  0  0  1  0 -27994.0       1 ...\n",
      "162  1  0  0  0  0  1  1  0  0  0  0  0  0  0  1  0 -27994.0       1 ...\n",
      "164  1  0  0  1  0  0  1  0  0  0  0  0  0  0  1  0 -27994.0       1 ...\n",
      "169  1  0  0  1  0  0  1  0  0  0  0  0  0  0  1  0 -27994.0       1 ...\n",
      "190  1  0  0  1  0  0  1  0  0  0  0  0  0  0  1  0 -27994.0       1 ...\n",
      "203  1  0  0  0  1  1  0  0  0  0  0  0  0  0  1  0 -27994.0       1 ...\n",
      "211  1  0  0  1  0  0  1  0  0  0  0  0  0  0  1  0 -27994.0       1 ...\n",
      "5    1  0  0  0  0  0  1  0  0  0  0  0  0  1  1  0 -27992.0       5 ...\n",
      "28   1  0  0  0  0  0  1  0  0  0  0  0  0  1  1  0 -27992.0       4 ...\n",
      "31   1  0  0  0  0  0  1  0  0  0  0  0  0  1  1  0 -27992.0       1 ...\n",
      "67   1  0  0  0  0  0  1  0  0  0  0  0  0  1  1  0 -27992.0       1 ...\n",
      "86   1  0  0  0  0  0  1  0  0  0  0  0  0  1  1  0 -27992.0       1 ...\n",
      "197  1  0  0  0  0  0  1  0  0  0  0  0  0  1  1  0 -27992.0       1 ...\n",
      "212  1  0  0  1  0  0  0  0  0  0  0  0  0  1  1  0 -27992.0       5 ...\n",
      "215  1  0  0  1  0  0  0  0  0  0  0  0  0  1  1  0 -27992.0       2 ...\n",
      "217  1  0  0  1  0  0  0  0  0  0  0  0  0  1  1  0 -27992.0       1 ...\n",
      "220  1  0  0  1  0  0  0  0  0  0  0  0  0  1  1  0 -27992.0       1 ...\n",
      "33   1  0  0  0  1  0  1  0  0  1  0  0  0  0  1  0 -27986.0       7 ...\n",
      "70   1  0  0  0  1  0  1  0  0  1  0  0  0  0  1  0 -27986.0       2 ...\n",
      "72   1  0  0  0  1  0  1  0  0  0  0  1  0  0  1  0 -27986.0       1 ...\n",
      "74   1  0  0  0  1  0  1  0  0  1  0  0  0  0  1  0 -27986.0       4 ...\n",
      "89   1  0  0  0  1  0  1  0  0  1  0  0  0  0  1  0 -27986.0       2 ...\n",
      "91   1  0  0  1  0  0  1  0  0  0  0  0  0  1  1  0 -27986.0      33 ...\n",
      "107  1  0  0  0  1  0  1  0  0  1  0  0  0  0  1  0 -27986.0       2 ...\n",
      "110  1  0  0  1  0  0  1  0  0  0  0  0  0  1  1  0 -27986.0      16 ...\n",
      "116  1  0  0  1  0  0  1  0  0  0  0  0  0  1  1  0 -27986.0       9 ...\n",
      "120  1  0  0  1  0  0  1  0  0  0  0  0  0  1  1  0 -27986.0      11 ...\n",
      "124  1  0  0  1  0  0  1  0  0  0  0  0  0  1  1  0 -27986.0       1 ...\n",
      "132  1  0  0  1  0  0  1  0  0  0  0  0  0  1  1  0 -27986.0       1 ...\n",
      "133  1  0  0  1  0  0  1  0  0  0  0  0  0  1  1  0 -27986.0       1 ...\n",
      "141  1  0  0  1  0  0  1  0  0  0  0  0  0  1  1  0 -27986.0       1 ...\n",
      "143  1  0  0  1  0  0  1  0  0  0  0  0  0  1  1  0 -27986.0       1 ...\n",
      "148  1  0  0  1  0  0  1  0  0  0  0  0  0  1  1  0 -27986.0       2 ...\n",
      "149  1  0  0  0  1  0  1  0  0  0  0  1  0  0  1  0 -27986.0       1 ...\n",
      "150  1  0  0  1  0  0  1  0  0  0  0  0  0  1  1  0 -27986.0       1 ...\n",
      "152  1  0  0  1  0  0  1  0  0  0  0  0  0  1  1  0 -27986.0       2 ...\n",
      "154  1  0  0  1  0  0  1  0  0  0  0  0  0  1  1  0 -27986.0       1 ...\n",
      "157  1  0  0  1  0  0  1  0  0  0  0  0  0  1  1  0 -27986.0       1 ...\n",
      "160  1  0  0  1  0  0  1  0  0  0  0  0  0  1  1  0 -27986.0       2 ...\n",
      "163  1  0  0  1  0  0  1  0  0  0  0  0  0  1  1  0 -27986.0       1 ...\n",
      "170  1  0  0  1  0  0  1  0  0  0  0  0  0  1  1  0 -27986.0       1 ...\n",
      "175  1  0  0  1  0  0  1  0  0  0  0  0  0  1  1  0 -27986.0       1 ...\n",
      "176  1  0  0  1  0  0  1  0  0  0  0  0  0  1  1  0 -27986.0       1 ...\n",
      "179  1  0  0  1  0  0  1  0  0  0  0  0  0  1  1  0 -27986.0       1 ...\n",
      "182  1  0  0  1  0  0  1  0  0  0  0  0  0  1  1  0 -27986.0       1 ...\n",
      "194  1  0  0  1  0  0  1  0  0  0  0  0  0  1  1  0 -27986.0       1 ...\n",
      "199  1  0  0  1  0  0  1  0  0  0  0  0  0  1  1  0 -27986.0       1 ...\n",
      "205  1  0  0  1  0  0  1  0  0  0  0  0  0  1  1  0 -27986.0       1 ...\n",
      "213  1  0  0  1  0  0  0  0  0  1  0  0  0  1  1  0 -27986.0       1 ...\n",
      "218  1  0  0  1  0  0  0  0  0  1  0  0  0  1  1  0 -27986.0       1 ...\n",
      "18   1  0  0  0  0  0  1  0  0  1  0  0  0  1  1  0 -27982.0       3 ...\n",
      "168  1  0  0  1  0  0  1  0  0  0  0  1  0  1  1  0 -27976.0       1 ...\n",
      "180  1  0  0  1  0  0  1  0  0  0  0  1  0  1  1  0 -27976.0       1 ...\n",
      "219  1  0  0  1  1  0  0  0  0  1  0  0  0  1  1  0 -27976.0       1 ...\n",
      "192  1  0  0  0  1  0  1  0  0  1  0  0  0  0  1  1 -27974.0       1 ...\n",
      "16   1  0  0  0  1  0  1  0  0  0  0  0  0  0  1  0 -24000.0      36 ...\n",
      "48   1  0  0  0  1  0  1  0  0  0  0  0  0  0  1  0 -24000.0       6 ...\n",
      "51   1  0  0  0  1  0  1  0  0  0  0  0  0  0  1  0 -24000.0       6 ...\n",
      "53   1  0  0  0  1  0  1  0  0  0  0  0  0  0  1  0 -24000.0      11 ...\n",
      "61   1  0  0  0  1  0  1  0  0  0  0  0  0  0  1  0 -24000.0       3 ...\n",
      "73   1  0  0  0  1  0  1  0  0  0  0  0  0  0  1  0 -24000.0       2 ...\n",
      "83   1  0  0  0  1  0  1  0  0  0  0  0  0  0  1  0 -24000.0       2 ...\n",
      "95   1  0  0  0  1  0  1  0  0  0  0  0  0  0  1  0 -24000.0       1 ...\n",
      "98   1  0  0  0  1  0  1  0  0  0  0  0  0  0  1  0 -24000.0       1 ...\n",
      "99   1  0  0  0  1  0  1  0  0  0  0  0  0  0  1  0 -24000.0       1 ...\n",
      "100  1  0  0  0  1  0  1  0  0  0  0  0  0  0  1  0 -24000.0       1 ...\n",
      "102  1  0  0  0  1  0  1  0  0  0  0  0  0  0  1  0 -24000.0       1 ...\n",
      "103  1  0  0  0  1  0  1  0  0  0  0  0  0  0  1  0 -24000.0       1 ...\n",
      "104  1  0  0  0  1  0  1  0  0  0  0  0  0  0  1  0 -24000.0       1 ...\n",
      "106  1  0  0  0  1  0  1  0  0  0  0  0  0  0  1  0 -24000.0       1 ...\n",
      "112  1  0  0  0  1  0  1  0  0  0  0  0  0  0  1  0 -24000.0       1 ...\n",
      "114  1  0  0  0  1  0  1  0  0  0  0  0  0  0  1  0 -24000.0       1 ...\n",
      "117  1  0  0  0  1  0  1  0  0  0  0  0  0  0  1  0 -24000.0       1 ...\n",
      "119  1  0  0  0  1  0  1  0  0  0  0  0  0  0  1  0 -24000.0       1 ...\n",
      "126  1  0  0  0  1  0  1  0  0  0  0  0  0  0  1  0 -24000.0       1 ...\n",
      "128  1  0  0  0  1  0  1  0  0  0  0  0  0  0  1  0 -24000.0       1 ...\n",
      "129  1  0  0  0  1  0  1  0  0  0  0  0  0  0  1  0 -24000.0       1 ...\n",
      "165  1  0  0  1  1  0  1  0  0  0  0  0  0  0  1  0 -23992.0       2 ...\n",
      "178  1  0  0  1  1  0  1  0  0  0  0  0  0  0  1  0 -23992.0       1 ...\n",
      "188  1  0  0  1  1  0  1  0  0  0  0  0  0  0  1  0 -23992.0       1 ...\n",
      "183  1  0  0  0  0  1  1  0  0  0  0  0  1  0  1  0 -23990.0       1 ...\n",
      "59   1  0  0  0  1  0  1  0  0  0  0  0  0  1  1  0 -23988.0       1 ...\n",
      "96   1  0  0  0  1  0  1  0  0  0  0  0  0  1  1  0 -23988.0       1 ...\n",
      "151  1  1  0  1  0  0  1  0  0  0  0  0  0  0  1  0 -23988.0       2 ...\n",
      "142  1  0  0  1  1  0  1  0  0  0  0  0  0  1  1  0 -23980.0       8 ...\n",
      "158  1  0  0  1  1  0  1  0  0  0  0  0  0  1  1  0 -23980.0       7 ...\n",
      "166  1  0  0  1  1  0  1  0  0  0  0  0  0  1  1  0 -23980.0       2 ...\n",
      "171  1  0  0  1  1  0  1  0  0  0  0  0  0  1  1  0 -23980.0       2 ...\n",
      "184  1  0  0  1  1  0  1  0  0  0  0  0  0  1  1  0 -23980.0       1 ...\n",
      "80   1  0  0  0  1  0  1  0  0  1  0  0  0  1  1  0 -23974.0       1 ...\n",
      "125  1  0  0  0  1  0  1  0  0  1  0  0  0  1  1  0 -23974.0       2 ...\n",
      "187  1  0  0  1  1  0  1  0  0  0  0  1  0  1  1  0 -23966.0       1 ...\n",
      "189  1  0  0  1  1  0  1  0  0  0  0  1  0  1  1  0 -23966.0       1 ...\n",
      "85   1  0  0  0  1  1  1  0  0  0  0  0  0  0  1  0 -19994.0       1 ...\n",
      "111  1  0  0  0  1  1  1  0  0  0  0  0  0  0  1  0 -19994.0       1 ...\n",
      "118  1  0  0  0  1  1  1  0  0  0  0  0  0  0  1  0 -19994.0       1 ...\n",
      "131  1  0  0  0  1  1  1  0  0  0  0  0  0  0  1  0 -19994.0       1 ...\n",
      "122  1  1  0  1  0  0  1  0  0  0  0  0  0  1  1  0 -19980.0       2 ...\n",
      "144  1  1  0  1  0  0  1  0  0  0  0  0  0  1  1  0 -19980.0       2 ...\n",
      "153  1  1  0  1  0  0  1  0  0  0  0  0  0  1  1  0 -19980.0       1 ...\n",
      "167  1  1  0  1  0  0  1  0  0  0  0  0  0  1  1  0 -19980.0       1 ...\n",
      "173  1  1  0  1  0  0  1  0  0  0  0  0  0  1  1  0 -19980.0       2 ...\n",
      "136  1  0  0  1  0  0  1  0  0  0  0  0  0  1  1  1 -19978.0       1 ...\n",
      "['BINARY', 221 rows, 1000 samples, 16 variables]\n",
      "[[1 0 0 0]\n",
      " [0 0 0 1]\n",
      " [0 1 0 0]\n",
      " [0 0 1 0]]\n",
      "12.94427190999916\n"
     ]
    }
   ],
   "source": [
    "start = time.time()\n",
    "sampler = EmbeddingComposite(DWaveSampler(token=my_dwave_token))\n",
    "r = QBSolv().sample_qubo(dictQ, solver = sampler, solver_limit=60)\n",
    "r = EmbeddingComposite(DWaveSampler(token=my_dwave_token)).sample_qubo(dictQ, num_reads=1000)\n",
    "elapsed_time = time.time() - start\n",
    "print (\"DW_time:{0}\".format(elapsed_time) + \"[sec]\")\n",
    "print(\"Total_real_time \", r.info[\"timing\"][\"total_real_time\"], \" μs\")\n",
    "result = np.empty((N, N), dtype = np.int)\n",
    "i = 0\n",
    "print(r)\n",
    "s = r.first.sample\n",
    "for i in range(len(s)):\n",
    "    j = int(i/N)\n",
    "    k = i%N\n",
    "    result[j,k]=s[i]\n",
    "print(result)\n",
    "if check_result(result):\n",
    "    ll = cal_len(result)\n",
    "    print(ll)"
   ]
  },
  {
   "cell_type": "markdown",
   "metadata": {},
   "source": [
    "# dnxのtraveling_salesman関数\n",
    "EmbeddingCompositeがバグってる？？？"
   ]
  },
  {
   "cell_type": "code",
   "execution_count": 39,
   "metadata": {},
   "outputs": [
    {
     "name": "stderr",
     "output_type": "stream",
     "text": [
      "/Users/moriyama/.pyenv/versions/anaconda3-4.0.0/lib/python3.5/site-packages/networkx/drawing/nx_pylab.py:611: MatplotlibDeprecationWarning: isinstance(..., numbers.Number)\n",
      "  if cb.is_numlike(alpha):\n"
     ]
    },
    {
     "data": {
      "image/png": "[encoded data removed]",
      "text/plain": [
       "<Figure size 432x288 with 1 Axes>"
      ]
     },
     "metadata": {},
     "output_type": "display_data"
    }
   ],
   "source": [
    "import dwave_networkx as dnx\n",
    "import dimod\n",
    "from dwave_qbsolv import QBSolv\n",
    "from dwave.system.samplers import DWaveSampler\n",
    "from dwave.system.composites import EmbeddingComposite\n",
    "my_dwave_token = \"DEV-df04bbde850ca9170bb81627bc32675b76d18f10\"\n",
    "G = nx.complete_graph(3)\n",
    "G.add_weighted_edges_from({(0, 1, 2), (0, 2, 3), (1, 2, 1)})\n",
    "dictQ = {(i, j): line for i, row in enumerate(Q) for j, line in enumerate(row) if i <= j}\n",
    "sampler = EmbeddingComposite(DWaveSampler(endpoint='https://cloud.dwavesys.com/sapi', token=my_dwave_token, solver='DW_2000Q_5'))\n",
    "#sampler = dimod.ExactSolver()\n",
    "'''sampler = FixedEmbeddingComposite(DWaveSampler(endpoint='https://cloud.dwavesys.com/sapi', token=my_dwave_token, solver='DW_2000Q_5'), \n",
    "                                  {(0,0): [0, 4], (0,1): [1, 5], (0,2): [2, 6],\n",
    "                                   (1,0): [3, 7], (1,1): [8, 12], (1,2): [9, 13],\n",
    "                                   (2,0): [10, 14], (2,1): [11, 15], (2,2): [16, 20]})'''\n",
    "#response = QBSolv().sample_qubo(dictQ, solver = sampler, solver_limit=60)\n",
    "ans1 = dnx.traveling_salesman(G, dimod.ExactSolver())\n",
    "Q = dnx.algorithms.traveling_salesman_qubo(G)\n",
    "h, J, off = dimod.BinaryQuadraticModel.from_qubo(Q).to_ising()\n",
    "ans2 = sampler.sample_qubo(Q, num_reads=100)\n",
    "ans2 = ans2.first\n",
    "#ans2 = dnx.traveling_salesman(G, sampler)\n",
    "nx.draw(G)\n",
    "plt.show()"
   ]
  },
  {
   "cell_type": "code",
   "execution_count": 38,
   "metadata": {},
   "outputs": [
    {
     "name": "stdout",
     "output_type": "stream",
     "text": [
      "[1, 2, 0] \n",
      " {(0, 1): 0, (1, 2): 0, (0, 0): 0, (2, 0): 0, (1, 0): 1, (2, 2): 0, (0, 2): 0, (2, 1): 0, (1, 1): 1}\n"
     ]
    }
   ],
   "source": [
    "print(ans1,\"\\n\",ans2.sample)#record.sample.reshape(3,3))"
   ]
  },
  {
   "cell_type": "code",
   "execution_count": 14,
   "metadata": {},
   "outputs": [
    {
     "name": "stdout",
     "output_type": "stream",
     "text": [
      "BinaryQuadraticModel({0: -5, 1: -8}, {(0, 1): 4}, 9.0, Vartype.BINARY)\n",
      "[[1 1]]\n"
     ]
    }
   ],
   "source": [
    "Q = {(0, 0):-5,\n",
    "     (0, 1): 4,\n",
    "     (1, 1): -8\n",
    "    }\n",
    "b = BinaryQuadraticModel.from_qubo(Q, 9.0)\n",
    "print(b)\n",
    "sampler = EmbeddingComposite(DWaveSampler(endpoint='https://cloud.dwavesys.com/sapi', token=my_dwave_token, solver='DW_2000Q_5', num_reads=10))\n",
    "#sampler = FixedEmbeddingComposite(DWaveSampler(endpoint='https://cloud.dwavesys.com/sapi', token=my_dwave_token, solver='DW_2000Q_5'), {0: [0,4], 1: [1,5]})\n",
    "ans2 = sampler.sample_qubo(Q)\n",
    "print(ans2.record.sample)"
   ]
  },
  {
   "cell_type": "code",
   "execution_count": null,
   "metadata": {},
   "outputs": [],
   "source": []
  }
 ],
 "metadata": {
  "kernelspec": {
   "display_name": "Python 3",
   "language": "python",
   "name": "python3"
  },
  "language_info": {
   "codemirror_mode": {
    "name": "ipython",
    "version": 3
   },
   "file_extension": ".py",
   "mimetype": "text/x-python",
   "name": "python",
   "nbconvert_exporter": "python",
   "pygments_lexer": "ipython3",
   "version": "3.5.3"
  }
 },
 "nbformat": 4,
 "nbformat_minor": 2
}
